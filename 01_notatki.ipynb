{
 "cells": [
  {
   "cell_type": "markdown",
   "id": "9bbf4131",
   "metadata": {},
   "source": [
    "x = 10"
   ]
  },
  {
   "cell_type": "code",
   "execution_count": null,
   "id": "a98752a5",
   "metadata": {},
   "outputs": [],
   "source": []
  },
  {
   "cell_type": "code",
   "execution_count": 2,
   "id": "c829de76",
   "metadata": {},
   "outputs": [],
   "source": [
    "x = 1"
   ]
  },
  {
   "cell_type": "markdown",
   "id": "aab48a3a",
   "metadata": {},
   "source": [
    "# Jupyter\n",
    "\n",
    "## Tryby\n",
    "\n",
    "* edycja (Enter)\n",
    "* polecenia (Escp)\n",
    "\n",
    "## typy komórek\n",
    "\n",
    "* code (y)\n",
    "* markdown (m)\n",
    "\n",
    "## wykonywanie komórek\n",
    "\n",
    "* shift + enter\n",
    "* option + enter\n",
    "* ctrl + enter\n",
    "\n",
    "## MarkDown\n",
    "\n",
    "### tabelka\n",
    "\n",
    "| id | tabelaa | tabelab |\n",
    "\n",
    "-\n",
    "\n",
    "\n",
    "### równanie matematyczne (Tex - LaTeX)\n",
    "\n",
    "\n"
   ]
  },
  {
   "cell_type": "markdown",
   "id": "daacea62",
   "metadata": {},
   "source": [
    "# Powtórka z pogłębieniem\n",
    "\n",
    "## Python - ogólnied\n",
    "\n",
    "\n",
    "* Nie trzeba określać typu - typowanie dynamiczne\n",
    "* Typowanie silne - nie ma domyślnej konwersji typów (zazwyczaj)"
   ]
  },
  {
   "cell_type": "code",
   "execution_count": 52,
   "id": "db8785a7",
   "metadata": {},
   "outputs": [
    {
     "name": "stdout",
     "output_type": "stream",
     "text": [
      "Writing palindrome.py\n"
     ]
    }
   ],
   "source": [
    "%%writefile palindrome.py\n",
    "\n",
    "def is_palindrom(text: str) -> bool:\n",
    "    tmp = \"\"\n",
    "    for sign in text.lower():\n",
    "        if sign.isalnum():\n",
    "            tmp += sign\n",
    "#     if tmp == tmp[::-1]\n",
    "#         return True\n",
    "#     else:\n",
    "#         return False\n",
    "\n",
    "    return tmp == tmp[::-1]\n",
    "    \n",
    "assert is_palindrom(\"kajak\")"
   ]
  },
  {
   "cell_type": "code",
   "execution_count": 46,
   "id": "1fa4beaa",
   "metadata": {
    "collapsed": true
   },
   "outputs": [
    {
     "data": {
      "text/plain": [
       "['__add__',\n",
       " '__class__',\n",
       " '__contains__',\n",
       " '__delattr__',\n",
       " '__dir__',\n",
       " '__doc__',\n",
       " '__eq__',\n",
       " '__format__',\n",
       " '__ge__',\n",
       " '__getattribute__',\n",
       " '__getitem__',\n",
       " '__getnewargs__',\n",
       " '__gt__',\n",
       " '__hash__',\n",
       " '__init__',\n",
       " '__init_subclass__',\n",
       " '__iter__',\n",
       " '__le__',\n",
       " '__len__',\n",
       " '__lt__',\n",
       " '__mod__',\n",
       " '__mul__',\n",
       " '__ne__',\n",
       " '__new__',\n",
       " '__reduce__',\n",
       " '__reduce_ex__',\n",
       " '__repr__',\n",
       " '__rmod__',\n",
       " '__rmul__',\n",
       " '__setattr__',\n",
       " '__sizeof__',\n",
       " '__str__',\n",
       " '__subclasshook__',\n",
       " 'capitalize',\n",
       " 'casefold',\n",
       " 'center',\n",
       " 'count',\n",
       " 'encode',\n",
       " 'endswith',\n",
       " 'expandtabs',\n",
       " 'find',\n",
       " 'format',\n",
       " 'format_map',\n",
       " 'index',\n",
       " 'isalnum',\n",
       " 'isalpha',\n",
       " 'isascii',\n",
       " 'isdecimal',\n",
       " 'isdigit',\n",
       " 'isidentifier',\n",
       " 'islower',\n",
       " 'isnumeric',\n",
       " 'isprintable',\n",
       " 'isspace',\n",
       " 'istitle',\n",
       " 'isupper',\n",
       " 'join',\n",
       " 'ljust',\n",
       " 'lower',\n",
       " 'lstrip',\n",
       " 'maketrans',\n",
       " 'partition',\n",
       " 'removeprefix',\n",
       " 'removesuffix',\n",
       " 'replace',\n",
       " 'rfind',\n",
       " 'rindex',\n",
       " 'rjust',\n",
       " 'rpartition',\n",
       " 'rsplit',\n",
       " 'rstrip',\n",
       " 'split',\n",
       " 'splitlines',\n",
       " 'startswith',\n",
       " 'strip',\n",
       " 'swapcase',\n",
       " 'title',\n",
       " 'translate',\n",
       " 'upper',\n",
       " 'zfill']"
      ]
     },
     "execution_count": 46,
     "metadata": {},
     "output_type": "execute_result"
    }
   ],
   "source": [
    "dir(\"\")"
   ]
  },
  {
   "cell_type": "code",
   "execution_count": 54,
   "id": "38e7c4a5",
   "metadata": {},
   "outputs": [
    {
     "name": "stdout",
     "output_type": "stream",
     "text": [
      "Help on built-in function isalnum:\n",
      "\n",
      "isalnum() method of builtins.str instance\n",
      "    Return True if the string is an alpha-numeric string, False otherwise.\n",
      "    \n",
      "    A string is alpha-numeric if all characters in the string are alpha-numeric and\n",
      "    there is at least one character in the string.\n",
      "\n"
     ]
    }
   ],
   "source": [
    "help(\"\".isalnum)"
   ]
  },
  {
   "cell_type": "code",
   "execution_count": null,
   "id": "c4fbd81f",
   "metadata": {},
   "outputs": [],
   "source": []
  }
 ],
 "metadata": {
  "kernelspec": {
   "display_name": "Python 3 (ipykernel)",
   "language": "python",
   "name": "python3"
  },
  "language_info": {
   "codemirror_mode": {
    "name": "ipython",
    "version": 3
   },
   "file_extension": ".py",
   "mimetype": "text/x-python",
   "name": "python",
   "nbconvert_exporter": "python",
   "pygments_lexer": "ipython3",
   "version": "3.10.4"
  }
 },
 "nbformat": 4,
 "nbformat_minor": 5
}
